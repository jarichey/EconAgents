{
 "cells": [
  {
   "cell_type": "code",
   "execution_count": null,
   "id": "5e2794c9",
   "metadata": {},
   "outputs": [],
   "source": [
    "# gamesvenv\n",
    "from openai import OpenAI \n",
    "import json\n",
    "import pickle\n",
    "import json\n",
    "import re\n",
    " \n",
    " \n",
    "import numpy as np\n",
    "#import pandas as pd\n",
    "\n",
    "path = \"config.json\"\n",
    "\n",
    "with open(path, \"r\") as f:\n",
    "    config = json.load(f)\n",
    "\n",
    "openai_api_key = config[\"OPENAI_API_KEY\"] "
   ]
  },
  {
   "cell_type": "markdown",
   "id": "3fbd6f3f",
   "metadata": {},
   "source": [
    "Set up personas"
   ]
  },
  {
   "cell_type": "code",
   "execution_count": 2,
   "id": "e8840a13",
   "metadata": {},
   "outputs": [],
   "source": [
    "def RandomAdult():\n",
    "\n",
    "       male_names = [\"Liam\", \"Noah\", \"Oliver\", \"Elijah\", \"William\", \"James\", \"Benjamin\", \"Lucas\", \"Henry\", \"Alexander\"]\n",
    "       male_names_p = [0.1, 0.1, 0.1, 0.1, 0.1, 0.1, 0.1, 0.1, 0.1, 0.1]\n",
    "       female_names = [\"Olivia\", \"Emma\", \"Ava\", \"Charlotte\", \"Sophia\", \"Amelia\", \"Isabella\", \"Mia\", \"Evelyn\", \"Harper\"]\n",
    "       female_names_p = [0.1, 0.1, 0.1, 0.1, 0.1, 0.1, 0.1, 0.1, 0.1, 0.1]\n",
    "\n",
    "       sex = [\"mother\", \"father\"]\n",
    "       sex_p = [0.5, 0.5] \n",
    "\n",
    "       children = [\"a son\", \"a daughter\", \"two kids\", \"three kids\"]\n",
    "       children_p = [0.25, 0.25, 0.25, 0.25]\n",
    "\n",
    "       age = [\"30\", \"35\", \"40\", \"45\"]\n",
    "       age_p = [0.25, 0.25, 0.25, 0.25] \n",
    "       party = [\"Left of Center\", \"Right of Center\", \"Centrist\" ]\n",
    "       party_p = [0.3, 0.3, 0.4]\n",
    "       region = [\"Northeast\", \"Midwest\", \"South\", \"West\"]\n",
    "       region_p = [0.25, 0.25, 0.25, 0.25]  \n",
    "       major = [\"policical scientist\", \"engineer\", \"educator\", \"computer scientist\", \"economist\", \"plumer\", \"home builder\", \"car salesman\", \"manager at a large companay\", \"mechanic\"]\n",
    "       major_p = [0.1, 0.1, 0.1, 0.1, 0.1, 0.1, 0.1, 0.1, 0.1, 0.1] \n",
    "       day = [\"It's been a pretty hectic day and you are in a bit of a rush.\", \"You are just out doing some shopping.\", \n",
    "              \"You are on your way back from coffee with a friend.\", \"You are on your way home from work.\"]\n",
    "       day_p = [0.25, 0.25, 0.25, 0.25] \n",
    "\n",
    "       mysex = np.random.choice(sex, p=sex_p)\n",
    "       myname = f\"{np.random.choice(male_names, p=male_names_p)}\" if mysex == 'father' else f\"{np.random.choice(female_names, p=female_names_p)}\" \n",
    "       myage = np.random.choice(age, p=age_p)\n",
    "       mychildren = np.random.choice(children, p=children_p)\n",
    "       myparty = np.random.choice(party, p=party_p)\n",
    "       myregion = np.random.choice(region, p=region_p)   \n",
    "       mymajor = np.random.choice(major, p=major_p) \n",
    "       myday = np.random.choice(day, p=day_p)\n",
    "\n",
    "       mytype = {\"mysex\": mysex, \"myname\": myname, \"myage\": myage, \"mychildren\": mychildren, \"myparty\": myparty, \"myregion\": myregion, \"mymajor\": mymajor, \"myday\": myday}\n",
    "\n",
    "       system = f\"You are role playing. You are {myname},  a {myage} year old {mysex} of {mychildren} and you work as a {mymajor}. You only reply as {myname}. \\\n",
    "You are from {myregion} and identify {myparty} politically. \\\n",
    "{myday}\"\n",
    "       \n",
    "       return system, mytype\n"
   ]
  },
  {
   "cell_type": "markdown",
   "id": "068c9995",
   "metadata": {},
   "source": [
    "Set up Functions and system prompt"
   ]
  },
  {
   "cell_type": "code",
   "execution_count": 3,
   "id": "07f0e724",
   "metadata": {},
   "outputs": [],
   "source": [
    "dictatorFn = [{\n",
    "    \"type\": \"function\",\n",
    "    \"function\": {\n",
    "        \"name\": \"split_function\",\n",
    "        \"description\": \"How much of the $100 to keep for yourself, the other player gets the rest.\",\n",
    "        \"parameters\": {\n",
    "            \"type\": \"object\",\n",
    "            \"properties\": {\n",
    "                \"choice\": {\n",
    "                    \"type\": \"number\",\n",
    "                    \"description\": \"How much of the $100 to keep for yourself.\" \n",
    "                }        \n",
    "            },\n",
    "            \"required\": [\"choice\"],\n",
    "            \"additionalProperties\": False\n",
    "        },\n",
    "        \"strict\": True\n",
    "    }\n",
    "}]\n",
    "\n",
    "SysAdd = \"You are about to play an economic game with real money. You will be given $100 and you must decide how to spit it \\\n",
    "between you and another player. However, if the other player rejects your offer, you both get zero. You have a function \\\n",
    "'split_function' to reply with using the 'choice' argument to give your answer. Only use your function 'split_function' \\\n",
    "to decide how much of the $100 to keep for yourself, the other player gets the rest.\"\n",
    "\n",
    "UserMsg = \"Here is $100. How much of the $100 will you keep for yourself? Only use your function 'split_function' to decide.\"\n"
   ]
  },
  {
   "cell_type": "markdown",
   "id": "337e4c80",
   "metadata": {},
   "source": [
    "Create people as a list of dictionaries with their profile and content\n",
    "\n",
    "Note 'responses' is blank and will be filled in with results from batch call"
   ]
  },
  {
   "cell_type": "code",
   "execution_count": 4,
   "id": "407d457e",
   "metadata": {},
   "outputs": [],
   "source": [
    "num_people = 100\n",
    "\n",
    "people = []\n",
    "\n",
    "for i in range(num_people):\n",
    "    person_sys, person_type = RandomAdult()\n",
    "    messages = [\n",
    "        {\"role\": \"system\", \"content\": person_sys + SysAdd},\n",
    "        {\"role\": \"user\", \"content\": UserMsg}\n",
    "        ]\n",
    "    responses = []\n",
    "    person = {\"system\": person_sys, \"type\": person_type, \"message\": messages, \"responses\": responses}\n",
    "    people.append(person)\n"
   ]
  },
  {
   "cell_type": "markdown",
   "id": "b9e1f044",
   "metadata": {},
   "source": [
    "Save people (or load if revisiting)"
   ]
  },
  {
   "cell_type": "code",
   "execution_count": 2,
   "id": "c3237705",
   "metadata": {},
   "outputs": [],
   "source": [
    "# with open(\"my_people_0427.pkl\", \"wb\") as f:\n",
    "#     pickle.dump(people, f)\n",
    "    \n",
    "with open(\"my_people_0427.pkl\", \"rb\") as f:\n",
    "    people = pickle.load(f)\n"
   ]
  },
  {
   "cell_type": "markdown",
   "id": "415189a8",
   "metadata": {},
   "source": [
    "Currently have a set of people from 04/27 saved as 'my_people_0427.pkl'"
   ]
  },
  {
   "cell_type": "markdown",
   "id": "126eb2bd",
   "metadata": {},
   "source": [
    "Create jsonl of calls to utilize batch calling\n",
    "\n",
    "Note each person has 'iters' calls"
   ]
  },
  {
   "cell_type": "code",
   "execution_count": 13,
   "id": "00d50a47",
   "metadata": {},
   "outputs": [
    {
     "name": "stdout",
     "output_type": "stream",
     "text": [
      "JSONL batch file saved as ultimatum_games_calls_0427.jsonl\n"
     ]
    }
   ],
   "source": [
    "# Define filename\n",
    "batch_filename = \"ultimatum_games_calls_0427.jsonl\"\n",
    "iters = 50\n",
    "\n",
    "# Write each request as a separate JSON object per line\n",
    "with open(batch_filename, \"w\") as f:\n",
    "    for person, data in enumerate(people):\n",
    "        for iter in range(iters):\n",
    "            json_line = json.dumps({\n",
    "                \"custom_id\": f\"person_{person}_iter_{iter}\",\n",
    "                \"method\": \"POST\",\n",
    "                \"url\": \"/v1/chat/completions\",\n",
    "                \"body\": {\n",
    "                    \"model\": \"gpt-4o-mini\",\n",
    "                    \"messages\": data[\"message\"],\n",
    "                    \"tools\": dictatorFn,\n",
    "                    \"temperature\": 1\n",
    "                }\n",
    "            })\n",
    "            f.write(json_line + \"\\n\")  # Ensure newline separation\n",
    "\n",
    "print(f\"JSONL batch file saved as {batch_filename}\")\n"
   ]
  },
  {
   "cell_type": "markdown",
   "id": "cfa451aa",
   "metadata": {},
   "source": [
    "Create files on openai's side"
   ]
  },
  {
   "cell_type": "code",
   "execution_count": 7,
   "id": "54e6d24f",
   "metadata": {},
   "outputs": [
    {
     "name": "stdout",
     "output_type": "stream",
     "text": [
      "Batch Input File ID: file-DtoLniTuJMtJfw8GzbZ9Wa\n"
     ]
    }
   ],
   "source": [
    "client = OpenAI(api_key=openai_api_key)\n",
    "\n",
    "batch_input_ultimatum_0427 = client.files.create(\n",
    "    file=open(batch_filename, \"rb\"),\n",
    "    purpose=\"batch\"\n",
    ")\n",
    "\n",
    "print(\"Batch Input File ID:\", batch_input_ultimatum_0427.id)"
   ]
  },
  {
   "cell_type": "markdown",
   "id": "b744bfca",
   "metadata": {},
   "source": [
    "Currently have a 04/27 batch file with openai as id: file-DtoLniTuJMtJfw8GzbZ9Wa"
   ]
  },
  {
   "cell_type": "markdown",
   "id": "049870c9",
   "metadata": {},
   "source": [
    "Create calls and outputs - will take maybe 10 min to several hours depending on openai's server's work load"
   ]
  },
  {
   "cell_type": "code",
   "execution_count": 8,
   "id": "c64d8188",
   "metadata": {},
   "outputs": [
    {
     "name": "stdout",
     "output_type": "stream",
     "text": [
      "Batch ID: batch_680e41c5ee7481908ebb8405d9043107\n"
     ]
    }
   ],
   "source": [
    "batch_output_ultimatum_0427 = client.batches.create(\n",
    "    input_file_id=batch_input_ultimatum_0427.id,\n",
    "    endpoint=\"/v1/chat/completions\",\n",
    "    completion_window=\"24h\",  # Set how long the batch should run\n",
    "    metadata={\"description\": \"Batch test\"}\n",
    ")\n",
    "\n",
    "print(\"Batch ID:\", batch_output_ultimatum_0427.id)\n"
   ]
  },
  {
   "cell_type": "markdown",
   "id": "a3752eac",
   "metadata": {},
   "source": [
    "Currently have a 04/27 batch output with ID: batch_680e41c5ee7481908ebb8405d9043107"
   ]
  },
  {
   "cell_type": "markdown",
   "id": "801bed2a",
   "metadata": {},
   "source": [
    "Check status and count of complete/failed/total"
   ]
  },
  {
   "cell_type": "code",
   "execution_count": 17,
   "id": "f0a50514",
   "metadata": {},
   "outputs": [
    {
     "name": "stdout",
     "output_type": "stream",
     "text": [
      "completed\n",
      "BatchRequestCounts(completed=5000, failed=0, total=5000)\n"
     ]
    }
   ],
   "source": [
    "retrieved_batch = client.batches.retrieve(batch_output_ultimatum_0427.id)\n",
    "print(retrieved_batch.status)\n",
    "print(retrieved_batch.request_counts)\n"
   ]
  },
  {
   "cell_type": "markdown",
   "id": "efa892ec",
   "metadata": {},
   "source": [
    "Once complete, extract content from processed batch"
   ]
  },
  {
   "cell_type": "code",
   "execution_count": 18,
   "id": "f9e3c731",
   "metadata": {},
   "outputs": [],
   "source": [
    "file_response = client.files.content(retrieved_batch.output_file_id)\n",
    "#print(file_response.text) # This contains all responses"
   ]
  },
  {
   "cell_type": "markdown",
   "id": "49ff505e",
   "metadata": {},
   "source": [
    "Each line is a response of the batch, so extract line by line and pars as JSON and save as a list"
   ]
  },
  {
   "cell_type": "code",
   "execution_count": 19,
   "id": "c4f63680",
   "metadata": {},
   "outputs": [],
   "source": [
    "# Split the response into lines and parse each as JSON\n",
    "results = [json.loads(line) for line in file_response.text.splitlines()]"
   ]
  },
  {
   "cell_type": "markdown",
   "id": "1dddbb1f",
   "metadata": {},
   "source": [
    "Print a few responses to ensure/check output format"
   ]
  },
  {
   "cell_type": "code",
   "execution_count": 35,
   "id": "fc414931",
   "metadata": {},
   "outputs": [
    {
     "name": "stdout",
     "output_type": "stream",
     "text": [
      "Response for person_0_iter_0: {'name': 'split_function', 'arguments': '{\"choice\":40}'}\n",
      "Response for person_0_iter_1: {'name': 'split_function', 'arguments': '{\"choice\":40}'}\n",
      "Response for person_0_iter_2: {'name': 'split_function', 'arguments': '{\"choice\":45}'}\n",
      "Response for person_0_iter_3: {'name': 'split_function', 'arguments': '{\"choice\":40}'}\n",
      "Response for person_0_iter_4: {'name': 'split_function', 'arguments': '{\"choice\":40}'}\n"
     ]
    }
   ],
   "source": [
    "# Example: Accessing responses\n",
    "for result in results[:5]:\n",
    "    custom_id = result[\"custom_id\"] # The ID of the original request\n",
    "    completion_text = result[\"response\"][\"body\"][\"choices\"][0][\"message\"][\"tool_calls\"][0][\"function\"]\n",
    "    print(f\"Response for {custom_id}: {completion_text}\")"
   ]
  },
  {
   "cell_type": "markdown",
   "id": "dc314db5",
   "metadata": {},
   "source": [
    "Save results for later analysis (or read back when revisiting)"
   ]
  },
  {
   "cell_type": "code",
   "execution_count": 3,
   "id": "b8c88e5e",
   "metadata": {},
   "outputs": [],
   "source": [
    "# with open(\"ultimatum_results_0427.pkl\", \"wb\") as f:\n",
    "#     pickle.dump(results, f)\n",
    "    \n",
    "with open(\"ultimatum_results_0427.pkl\", \"rb\") as f:\n",
    "    results = pickle.load(f)"
   ]
  },
  {
   "cell_type": "markdown",
   "id": "507412d0",
   "metadata": {},
   "source": [
    "Connect results to original people dictionary"
   ]
  },
  {
   "cell_type": "code",
   "execution_count": 4,
   "id": "156930fa",
   "metadata": {},
   "outputs": [],
   "source": [
    "def map_responses_to_people(people, batch_results):\n",
    "    \"\"\"\n",
    "    Maps batch responses to the corresponding person in the people list\n",
    "    based on custom_id.\n",
    "\n",
    "    Parameters:\n",
    "    people (list of dicts): List of people, each with an empty \"responses\" key.\n",
    "    batch_results (list of dicts): List of batch API responses, each with a custom_id.\n",
    "    \"\"\"\n",
    "    # Create a lookup dictionary for people using their identifier (e.g., \"person_1\")\n",
    "    people_dict = {f\"person_{i}\": person for i, person in enumerate(people)}\n",
    "\n",
    "    for result in batch_results:\n",
    "        # Extract person identifier from &#39;custom_id&#39;\n",
    "        match = re.match(r\"(person_\\d+)\", result[\"custom_id\"])\n",
    "        if match:\n",
    "            person_id = match.group(1) # Extract \"person_X\"\n",
    "\n",
    "        # Ensure the person exists in people_dict before assigning responses\n",
    "        if person_id in people_dict:\n",
    "            tool_call = result[\"response\"][\"body\"][\"choices\"][0][\"message\"][\"tool_calls\"]\n",
    "        if tool_call is not None:\n",
    "            tool_call = tool_call[0]\n",
    "            args = json.loads(tool_call[\"function\"][\"arguments\"])\n",
    "            people_dict[person_id][\"responses\"].append(args[\"choice\"])\n",
    "        else:\n",
    "            people_dict[person_id][\"responses\"].append(None)\n",
    "\n",
    "    return people # Updated in place"
   ]
  },
  {
   "cell_type": "code",
   "execution_count": 5,
   "id": "2a73402f",
   "metadata": {},
   "outputs": [],
   "source": [
    "people = map_responses_to_people(people, results)"
   ]
  },
  {
   "cell_type": "markdown",
   "id": "d3f68bbc",
   "metadata": {},
   "source": [
    "Now analyze the responses and create results"
   ]
  },
  {
   "cell_type": "code",
   "execution_count": 8,
   "id": "022823b5",
   "metadata": {},
   "outputs": [],
   "source": [
    "import numpy as np\n",
    "import pandas as pd\n",
    "import matplotlib.pyplot as plt\n",
    "import seaborn as sns"
   ]
  },
  {
   "cell_type": "markdown",
   "id": "467ef1de",
   "metadata": {},
   "source": [
    "Plot a few people's distribution of offers (actually what they say they will keep)"
   ]
  },
  {
   "cell_type": "code",
   "execution_count": 9,
   "id": "ed87d967",
   "metadata": {},
   "outputs": [
    {
     "data": {
      "image/png": "[encoded data removed]",
      "text/plain": [
       "<Figure size 1000x600 with 1 Axes>"
      ]
     },
     "metadata": {},
     "output_type": "display_data"
    }
   ],
   "source": [
    "indices = [0, 3, 4, 45]\n",
    "selected_elements = [people[i] for i in indices]\n",
    "\n",
    "# 1. Plot Smoothed Distributions (KDE) for Each Person\n",
    "plt.figure(figsize=(10, 6))\n",
    "for idx, person in enumerate(selected_elements):\n",
    "    sns.kdeplot(person[\"responses\"], label=f\"Person {idx}\", fill=True, alpha=0.4)\n",
    "\n",
    "plt.xlabel(\"Response Value\")\n",
    "\n",
    "plt.ylabel(\"Density\")\n",
    "plt.title(\"Smoothed Distributions of Responses\")\n",
    "plt.legend()\n",
    "plt.show()"
   ]
  },
  {
   "cell_type": "markdown",
   "id": "db31ddc8",
   "metadata": {},
   "source": [
    "Make all cross people t-tests of equality of average responses, then plot as simple distribution"
   ]
  },
  {
   "cell_type": "code",
   "execution_count": 10,
   "id": "7e1b0647",
   "metadata": {},
   "outputs": [],
   "source": [
    "from scipy.stats import ttest_ind"
   ]
  },
  {
   "cell_type": "code",
   "execution_count": 11,
   "id": "378ca89a",
   "metadata": {},
   "outputs": [
    {
     "data": {
      "image/png": "[encoded data removed]",
      "text/plain": [
       "<Figure size 800x500 with 1 Axes>"
      ]
     },
     "metadata": {},
     "output_type": "display_data"
    }
   ],
   "source": [
    "# 2. Compute the T-Test Matrix\n",
    "num_people = len(people)\n",
    "t_matrix = np.zeros((num_people, num_people))\n",
    "\n",
    "for i in range(num_people):\n",
    "    for j in range(num_people):\n",
    "        if i != j:\n",
    "            t_stat, _ = ttest_ind(people[i][\"responses\"], people[j][\"responses\"], equal_var=False)\n",
    "            t_matrix[i, j] = t_stat\n",
    "\n",
    "# Convert to DataFrame for better visualization\n",
    "t_matrix_df = pd.DataFrame(t_matrix, columns=[f\"P{j}\" for j in range(num_people)], index=[f\"P{i}\" for i in range(num_people)])\n",
    "\n",
    "size = t_matrix.shape[1]\n",
    "\n",
    "# Extract the upper triangle without the diagonal\n",
    "upper_triangle_t_stats = t_matrix[np.triu_indices(size, k=1)] # k=1 excludes the diagonal\n",
    "\n",
    "# Compute absolute values\n",
    "abs_upper_triangle_t_stats = np.abs(upper_triangle_t_stats)\n",
    "\n",
    "# Plot the distribution\n",
    "\n",
    "plt.figure(figsize=(8, 5))\n",
    "sns.histplot(abs_upper_triangle_t_stats, bins=30, kde=True)\n",
    "plt.xlabel(\"Absolute T-Statistic\")\n",
    "plt.ylabel(\"Density\")\n",
    "plt.title(\"Distribution of Absolute T-Statistics in Upper Triangle\")\n",
    "plt.show()"
   ]
  },
  {
   "cell_type": "markdown",
   "id": "fb9e1f25",
   "metadata": {},
   "source": [
    "Now do some regressions on some dummies of people's characteristics"
   ]
  },
  {
   "cell_type": "code",
   "execution_count": 14,
   "id": "8960dd2b",
   "metadata": {},
   "outputs": [],
   "source": [
    "from sklearn.preprocessing import OneHotEncoder\n",
    "import statsmodels.api as sm"
   ]
  },
  {
   "cell_type": "code",
   "execution_count": 20,
   "id": "41e1a9fb",
   "metadata": {},
   "outputs": [
    {
     "data": {
      "text/html": [
       "<table class=\"simpletable\">\n",
       "<caption>OLS Regression Results</caption>\n",
       "<tr>\n",
       "  <th>Dep. Variable:</th>            <td>y</td>        <th>  R-squared:         </th> <td>   0.573</td> \n",
       "</tr>\n",
       "<tr>\n",
       "  <th>Model:</th>                   <td>OLS</td>       <th>  Adj. R-squared:    </th> <td>   0.573</td> \n",
       "</tr>\n",
       "<tr>\n",
       "  <th>Method:</th>             <td>Least Squares</td>  <th>  F-statistic:       </th> <td>   2236.</td> \n",
       "</tr>\n",
       "<tr>\n",
       "  <th>Date:</th>             <td>Sat, 03 May 2025</td> <th>  Prob (F-statistic):</th>  <td>  0.00</td>  \n",
       "</tr>\n",
       "<tr>\n",
       "  <th>Time:</th>                 <td>10:18:45</td>     <th>  Log-Likelihood:    </th> <td> -16194.</td> \n",
       "</tr>\n",
       "<tr>\n",
       "  <th>No. Observations:</th>      <td>  5000</td>      <th>  AIC:               </th> <td>3.240e+04</td>\n",
       "</tr>\n",
       "<tr>\n",
       "  <th>Df Residuals:</th>          <td>  4996</td>      <th>  BIC:               </th> <td>3.242e+04</td>\n",
       "</tr>\n",
       "<tr>\n",
       "  <th>Df Model:</th>              <td>     3</td>      <th>                     </th>     <td> </td>    \n",
       "</tr>\n",
       "<tr>\n",
       "  <th>Covariance Type:</th>      <td>nonrobust</td>    <th>                     </th>     <td> </td>    \n",
       "</tr>\n",
       "</table>\n",
       "<table class=\"simpletable\">\n",
       "<tr>\n",
       "             <td></td>                <th>coef</th>     <th>std err</th>      <th>t</th>      <th>P>|t|</th>  <th>[0.025</th>    <th>0.975]</th>  \n",
       "</tr>\n",
       "<tr>\n",
       "  <th>const</th>                   <td>   47.7127</td> <td>    0.161</td> <td>  295.609</td> <td> 0.000</td> <td>   47.396</td> <td>   48.029</td>\n",
       "</tr>\n",
       "<tr>\n",
       "  <th>myparty_Left of Center</th>  <td>   -5.5840</td> <td>    0.208</td> <td>  -26.804</td> <td> 0.000</td> <td>   -5.992</td> <td>   -5.176</td>\n",
       "</tr>\n",
       "<tr>\n",
       "  <th>myparty_Right of Center</th> <td>   12.3711</td> <td>    0.214</td> <td>   57.734</td> <td> 0.000</td> <td>   11.951</td> <td>   12.791</td>\n",
       "</tr>\n",
       "<tr>\n",
       "  <th>mysex_mother</th>            <td>    0.0113</td> <td>    0.175</td> <td>    0.065</td> <td> 0.948</td> <td>   -0.331</td> <td>    0.354</td>\n",
       "</tr>\n",
       "</table>\n",
       "<table class=\"simpletable\">\n",
       "<tr>\n",
       "  <th>Omnibus:</th>       <td>263.143</td> <th>  Durbin-Watson:     </th> <td>   1.774</td> \n",
       "</tr>\n",
       "<tr>\n",
       "  <th>Prob(Omnibus):</th> <td> 0.000</td>  <th>  Jarque-Bera (JB):  </th> <td> 995.484</td> \n",
       "</tr>\n",
       "<tr>\n",
       "  <th>Skew:</th>          <td> 0.080</td>  <th>  Prob(JB):          </th> <td>6.81e-217</td>\n",
       "</tr>\n",
       "<tr>\n",
       "  <th>Kurtosis:</th>      <td> 5.180</td>  <th>  Cond. No.          </th> <td>    3.92</td> \n",
       "</tr>\n",
       "</table><br/><br/>Notes:<br/>[1] Standard Errors assume that the covariance matrix of the errors is correctly specified."
      ],
      "text/latex": [
       "\\begin{center}\n",
       "\\begin{tabular}{lclc}\n",
       "\\toprule\n",
       "\\textbf{Dep. Variable:}           &        y         & \\textbf{  R-squared:         } &     0.573   \\\\\n",
       "\\textbf{Model:}                   &       OLS        & \\textbf{  Adj. R-squared:    } &     0.573   \\\\\n",
       "\\textbf{Method:}                  &  Least Squares   & \\textbf{  F-statistic:       } &     2236.   \\\\\n",
       "\\textbf{Date:}                    & Sat, 03 May 2025 & \\textbf{  Prob (F-statistic):} &     0.00    \\\\\n",
       "\\textbf{Time:}                    &     10:18:45     & \\textbf{  Log-Likelihood:    } &   -16194.   \\\\\n",
       "\\textbf{No. Observations:}        &        5000      & \\textbf{  AIC:               } & 3.240e+04   \\\\\n",
       "\\textbf{Df Residuals:}            &        4996      & \\textbf{  BIC:               } & 3.242e+04   \\\\\n",
       "\\textbf{Df Model:}                &           3      & \\textbf{                     } &             \\\\\n",
       "\\textbf{Covariance Type:}         &    nonrobust     & \\textbf{                     } &             \\\\\n",
       "\\bottomrule\n",
       "\\end{tabular}\n",
       "\\begin{tabular}{lcccccc}\n",
       "                                  & \\textbf{coef} & \\textbf{std err} & \\textbf{t} & \\textbf{P$> |$t$|$} & \\textbf{[0.025} & \\textbf{0.975]}  \\\\\n",
       "\\midrule\n",
       "\\textbf{const}                    &      47.7127  &        0.161     &   295.609  &         0.000        &       47.396    &       48.029     \\\\\n",
       "\\textbf{myparty\\_Left of Center}  &      -5.5840  &        0.208     &   -26.804  &         0.000        &       -5.992    &       -5.176     \\\\\n",
       "\\textbf{myparty\\_Right of Center} &      12.3711  &        0.214     &    57.734  &         0.000        &       11.951    &       12.791     \\\\\n",
       "\\textbf{mysex\\_mother}            &       0.0113  &        0.175     &     0.065  &         0.948        &       -0.331    &        0.354     \\\\\n",
       "\\bottomrule\n",
       "\\end{tabular}\n",
       "\\begin{tabular}{lclc}\n",
       "\\textbf{Omnibus:}       & 263.143 & \\textbf{  Durbin-Watson:     } &     1.774  \\\\\n",
       "\\textbf{Prob(Omnibus):} &   0.000 & \\textbf{  Jarque-Bera (JB):  } &   995.484  \\\\\n",
       "\\textbf{Skew:}          &   0.080 & \\textbf{  Prob(JB):          } & 6.81e-217  \\\\\n",
       "\\textbf{Kurtosis:}      &   5.180 & \\textbf{  Cond. No.          } &      3.92  \\\\\n",
       "\\bottomrule\n",
       "\\end{tabular}\n",
       "%\\caption{OLS Regression Results}\n",
       "\\end{center}\n",
       "\n",
       "Notes: \\newline\n",
       " [1] Standard Errors assume that the covariance matrix of the errors is correctly specified."
      ],
      "text/plain": [
       "<class 'statsmodels.iolib.summary.Summary'>\n",
       "\"\"\"\n",
       "                            OLS Regression Results                            \n",
       "==============================================================================\n",
       "Dep. Variable:                      y   R-squared:                       0.573\n",
       "Model:                            OLS   Adj. R-squared:                  0.573\n",
       "Method:                 Least Squares   F-statistic:                     2236.\n",
       "Date:                Sat, 03 May 2025   Prob (F-statistic):               0.00\n",
       "Time:                        10:18:45   Log-Likelihood:                -16194.\n",
       "No. Observations:                5000   AIC:                         3.240e+04\n",
       "Df Residuals:                    4996   BIC:                         3.242e+04\n",
       "Df Model:                           3                                         \n",
       "Covariance Type:            nonrobust                                         \n",
       "===========================================================================================\n",
       "                              coef    std err          t      P>|t|      [0.025      0.975]\n",
       "-------------------------------------------------------------------------------------------\n",
       "const                      47.7127      0.161    295.609      0.000      47.396      48.029\n",
       "myparty_Left of Center     -5.5840      0.208    -26.804      0.000      -5.992      -5.176\n",
       "myparty_Right of Center    12.3711      0.214     57.734      0.000      11.951      12.791\n",
       "mysex_mother                0.0113      0.175      0.065      0.948      -0.331       0.354\n",
       "==============================================================================\n",
       "Omnibus:                      263.143   Durbin-Watson:                   1.774\n",
       "Prob(Omnibus):                  0.000   Jarque-Bera (JB):              995.484\n",
       "Skew:                           0.080   Prob(JB):                    6.81e-217\n",
       "Kurtosis:                       5.180   Cond. No.                         3.92\n",
       "==============================================================================\n",
       "\n",
       "Notes:\n",
       "[1] Standard Errors assume that the covariance matrix of the errors is correctly specified.\n",
       "\"\"\""
      ]
     },
     "execution_count": 20,
     "metadata": {},
     "output_type": "execute_result"
    }
   ],
   "source": [
    "# 3. Regression Analysis: Responses ~ One-Hot Encoded Attributes\n",
    "# Extract responses and attributes\n",
    "responses = []\n",
    "attributes = []\n",
    "for person in people:\n",
    "    responses.extend(person[\"responses\"])\n",
    "    attributes.extend([person[\"type\"]] * len(person[\"responses\"]))\n",
    "\n",
    "# Convert attributes to DataFrame\n",
    "attr_df = pd.DataFrame(attributes)\n",
    "# make subset of a few attributes - you can play around with these\n",
    "attr_df_small = attr_df[[\"myparty\", \"mysex\"]]  \n",
    "\n",
    "# One-hot encode categorical attributes\n",
    "encoder = OneHotEncoder(drop=\"first\", sparse_output=False)\n",
    "X_encoded = encoder.fit_transform(attr_df_small)\n",
    "\n",
    "# Convert to DataFrame\n",
    "\n",
    "X_df = pd.DataFrame(X_encoded, columns=encoder.get_feature_names_out(attr_df_small.columns))\n",
    "\n",
    "# Add Intercept for Regression\n",
    "X_df = sm.add_constant(X_df)\n",
    "\n",
    "# Convert responses to Series\n",
    "y = pd.Series(responses)\n",
    "\n",
    "# Run OLS Regression\n",
    "model = sm.OLS(y, X_df).fit()\n",
    "\n",
    "# Display Regression Summary\n",
    "model.summary()"
   ]
  },
  {
   "cell_type": "markdown",
   "id": "6e38babf",
   "metadata": {},
   "source": [
    "While things like the persons day or major make a small difference, the political leaning makes a economically significant difference"
   ]
  },
  {
   "cell_type": "code",
   "execution_count": null,
   "id": "b68711b4",
   "metadata": {},
   "outputs": [],
   "source": []
  }
 ],
 "metadata": {
  "kernelspec": {
   "display_name": ".gamesvenv",
   "language": "python",
   "name": "python3"
  },
  "language_info": {
   "codemirror_mode": {
    "name": "ipython",
    "version": 3
   },
   "file_extension": ".py",
   "mimetype": "text/x-python",
   "name": "python",
   "nbconvert_exporter": "python",
   "pygments_lexer": "ipython3",
   "version": "3.11.9"
  }
 },
 "nbformat": 4,
 "nbformat_minor": 5
}
